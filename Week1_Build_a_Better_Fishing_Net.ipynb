{
 "cells": [
  {
   "cell_type": "markdown",
   "id": "bb4d1f17",
   "metadata": {},
   "source": [
    "# Week 1 – Build a Better Fishing Net\n",
    "### *Exploring grids, cuts & connectivity*\n"
   ]
  },
  {
   "cell_type": "markdown",
   "id": "ea7a97ba",
   "metadata": {},
   "source": [
    "> **Read‑only starter file**  \n",
    "> Click **File ▸ Save a Copy** (or **Duplicate** button if you see one) so you can experiment freely without changing the master version.\n"
   ]
  },
  {
   "cell_type": "markdown",
   "id": "31f1c028",
   "metadata": {},
   "source": [
    "## The Story  \n",
    "Fishing communities around the world weave rectangular nets from ropes knotted into a grid.  \n",
    "A torn net lets fish escape!  \n",
    "  \n",
    "Your mission: **Explore how many strands you can cut before the net falls into two separate pieces.**  \n",
    "\n",
    "**You will learn**  \n",
    "* how to describe a grid using points (*nodes*) and strands (*edges*)  \n",
    "* what it means for a structure to stay **connected**  \n",
    "* how to use sliders and simple Python code to model & test ideas  \n"
   ]
  },
  {
   "cell_type": "code",
   "execution_count": null,
   "id": "61907984",
   "metadata": {},
   "outputs": [],
   "source": [
    "import matplotlib.pyplot as plt\n",
    "\n",
    "def draw_intact_net(rows=5, cols=7):\n",
    "    plt.figure(figsize=(cols, rows))\n",
    "    for r in range(rows):\n",
    "        for c in range(cols):\n",
    "            # horizontal strand\n",
    "            if c < cols-1:\n",
    "                plt.plot([c, c+1], [rows-1-r]*2, 'k-')\n",
    "            # vertical strand\n",
    "            if r < rows-1:\n",
    "                plt.plot([c]*2, [rows-1-r, rows-r], 'k-')\n",
    "    plt.title(\"A brand‑new fishing net – no cuts yet!\")\n",
    "    plt.axis(\"off\")\n",
    "    plt.show()\n",
    "\n",
    "draw_intact_net()\n"
   ]
  },
  {
   "cell_type": "markdown",
   "id": "8570c839",
   "metadata": {},
   "source": [
    "### Predict  \n",
    "*If you cut **one** strand, can the net ever split? What about **ten** strands?*  \n",
    "Type your guess here before you test.  \n"
   ]
  },
  {
   "cell_type": "code",
   "execution_count": null,
   "id": "462a99c2",
   "metadata": {},
   "outputs": [],
   "source": [
    "import random\n",
    "from ipywidgets import interact, IntSlider\n",
    "\n",
    "ROWS = 5\n",
    "COLS = 7\n",
    "\n",
    "# build the list of all strands (edges)\n",
    "edges = []\n",
    "for r in range(ROWS):\n",
    "    for c in range(COLS):\n",
    "        if c < COLS - 1:       # horizontal\n",
    "            edges.append(((r, c), (r, c+1)))\n",
    "        if r < ROWS - 1:       # vertical\n",
    "            edges.append(((r, c), (r+1, c)))\n",
    "\n",
    "def draw_net(cuts=0, seed=0):\n",
    "    random.seed(seed)\n",
    "    cut_edges = random.sample(edges, k=cuts)\n",
    "    kept_edges = [e for e in edges if e not in cut_edges]\n",
    "    \n",
    "    plt.figure(figsize=(COLS, ROWS))\n",
    "    # draw kept strands\n",
    "    for (r1, c1), (r2, c2) in kept_edges:\n",
    "        plt.plot([c1, c2], [ROWS-1-r1, ROWS-1-r2], 'k-')\n",
    "    # draw cut strands\n",
    "    for (r1, c1), (r2, c2) in cut_edges:\n",
    "        plt.plot([c1, c2], [ROWS-1-r1, ROWS-1-r2], 'r--', alpha=0.5)\n",
    "        \n",
    "    plt.axis(\"off\")\n",
    "    plt.title(f\"{cuts} strand(s) cut (red dashed)\")\n",
    "    plt.show()\n",
    "\n",
    "interact(draw_net,\n",
    "         cuts=IntSlider(min=0, max=20, step=1, value=0),\n",
    "         seed=IntSlider(min=0, max=99, step=1, value=0));\n"
   ]
  },
  {
   "cell_type": "markdown",
   "id": "731c71b7",
   "metadata": {},
   "source": [
    "### When does the net really split?  \n",
    "A net **splits** when you can find at least **two knots** that are no longer connected by any path of intact strands.  \n",
    "In graph theory words: the grid becomes **disconnected**.  \n"
   ]
  },
  {
   "cell_type": "code",
   "execution_count": null,
   "id": "448301af",
   "metadata": {},
   "outputs": [],
   "source": [
    "# Let's add a simple connectivity checker using depth‑first search (DFS)\n",
    "def build_graph(kept_edges):\n",
    "    graph = {}\n",
    "    for (r1, c1), (r2, c2) in kept_edges:\n",
    "        graph.setdefault((r1, c1), []).append((r2, c2))\n",
    "        graph.setdefault((r2, c2), []).append((r1, c1))\n",
    "    return graph\n",
    "\n",
    "def is_connected(kept_edges):\n",
    "    graph = build_graph(kept_edges)\n",
    "    if not graph:\n",
    "        return False\n",
    "    \n",
    "    start = next(iter(graph))\n",
    "    visited = set()\n",
    "    stack = [start]\n",
    "    while stack:\n",
    "        node = stack.pop()\n",
    "        if node in visited:\n",
    "            continue\n",
    "        visited.add(node)\n",
    "        stack.extend(graph.get(node, []))\n",
    "    return len(visited) == ROWS * COLS   # all knots reached\n",
    "\n",
    "# interactive checker\n",
    "from ipywidgets import interact, IntSlider, Checkbox\n",
    "\n",
    "def explore_connectivity(cuts=0, seed=0, show_plot=True):\n",
    "    random.seed(seed)\n",
    "    cut_edges = random.sample(edges, k=cuts)\n",
    "    kept_edges = [e for e in edges if e not in cut_edges]\n",
    "    if show_plot:\n",
    "        draw_net(cuts=cuts, seed=seed)\n",
    "    print(\"Is the net still in one piece? ➜\", \"YES\" if is_connected(kept_edges) else \"NO\")\n",
    "\n",
    "interact(explore_connectivity,\n",
    "         cuts=IntSlider(min=0, max=20, step=1, value=0),\n",
    "         seed=IntSlider(min=0, max=99, step=1, value=0),\n",
    "         show_plot=Checkbox(value=True, description='Show net'));\n"
   ]
  },
  {
   "cell_type": "markdown",
   "id": "0b9443d1",
   "metadata": {},
   "source": [
    "## Challenge Problems  \n",
    "\n",
    "1. **Find the tipping point** – For the 5 × 7 grid, what is the *largest* number of strands you have managed to cut while the net stayed in one piece?  \n",
    "2. **Guarantee a split** – What is the *smallest* number of strands you can cut and be **certain** the net will split, no matter which strands you choose?  \n",
    "3. **Generalise** – Try changing `ROWS` and `COLS` in the code above. How do your answers change? Can you spot a pattern?  \n",
    "\n",
    "*(Record your thoughts below.)*  \n"
   ]
  },
  {
   "cell_type": "markdown",
   "id": "4a177ca6",
   "metadata": {},
   "source": [
    "## Real‑World Extension  \n",
    "\n",
    "*Tie your own mini‑net.*  \n",
    "1. Arrange strings into a 3 × 4 grid and tie simple overhand knots at the crossings.  \n",
    "2. Use scissors to cut strands one at a time.  \n",
    "3. Compare when your physical net splits with what the model predicted.  \n",
    "\n",
    "Upload a photo of your net here if your platform allows!  \n"
   ]
  },
  {
   "cell_type": "markdown",
   "id": "3f9aebd8",
   "metadata": {},
   "source": [
    "### Reflection Journal  \n",
    "\n",
    "*What surprised you today?*  \n",
    "*Which mistake taught you something useful?*  \n"
   ]
  }
 ],
 "metadata": {
  "kernelspec": {
   "display_name": "Python 3",
   "language": "python",
   "name": "python3"
  },
  "language_info": {
   "name": "python",
   "version": "3.x"
  }
 },
 "nbformat": 4,
 "nbformat_minor": 5
}
