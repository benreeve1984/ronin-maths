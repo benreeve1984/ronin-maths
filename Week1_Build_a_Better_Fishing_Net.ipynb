{
 "cells": [
  {
   "cell_type": "markdown",
   "id": "2f1c2cf1",
   "metadata": {},
   "source": [
    "# Week 1 – Build a Better Fishing Net\n",
    "### Exploring grids, cuts & connectivity\n",
    "\n",
    "> **Starter notebook – please duplicate**\n",
    "> Go to **File ▸ Save a Copy** (or use a **Duplicate** button) before editing so you keep your own version.\n"
   ]
  },
  {
   "cell_type": "markdown",
   "id": "ecf08e88",
   "metadata": {},
   "source": [
    "## The Story\n",
    "Fishing villages weave rectangular nets by tying ropes into a grid of knots.\n",
    "A torn net lets fish escape – and you lose dinner!\n",
    "\n",
    "**Mission**: Explore **how many strands you can cut, and which ones, before the net falls into two separate pieces**.\n",
    "\n",
    "**You will practice**\n",
    "- Visual reasoning with grids\n",
    "- Graph ideas: *nodes*, *edges*, *connectedness*\n",
    "- A first taste of Python & interactive widgets\n"
   ]
  },
  {
   "cell_type": "code",
   "execution_count": null,
   "id": "de25c2e4",
   "metadata": {},
   "outputs": [],
   "source": [
    "# Interactive backend for Matplotlib – required on Binder\n",
    "%matplotlib\n",
    "\n",
    "import matplotlib.pyplot as plt\n",
    "import random\n",
    "import ipywidgets as widgets\n"
   ]
  },
  {
   "cell_type": "code",
   "execution_count": null,
   "id": "a187975f",
   "metadata": {},
   "outputs": [],
   "source": [
    "def draw_intact_net(rows=5, cols=7, lw=2):\n",
    "    \"\"\"Draw a fresh rows×cols fishing net.\"\"\"\n",
    "    plt.figure(figsize=(cols, rows))\n",
    "    for r in range(rows):\n",
    "        for c in range(cols):\n",
    "            # horizontal strand\n",
    "            if c < cols - 1:\n",
    "                plt.plot([c, c + 1], [rows - r]*2, 'k-', linewidth=lw)\n",
    "            # vertical strand\n",
    "            if r < rows - 1:\n",
    "                plt.plot([c]*2, [rows - 1 - r, rows - r], 'k-', linewidth=lw)\n",
    "    plt.axis('off')\n",
    "    plt.title('A brand‑new fishing net – no cuts yet!')\n",
    "    plt.show()\n"
   ]
  },
  {
   "cell_type": "code",
   "execution_count": null,
   "id": "12dbb18f",
   "metadata": {},
   "outputs": [],
   "source": [
    "draw_intact_net()"
   ]
  },
  {
   "cell_type": "markdown",
   "id": "6ec81167",
   "metadata": {},
   "source": [
    "### Predict\n",
    "If you cut **one** strand, can the net ever split? What about **ten** strands?\n",
    "Write your guess before you test:\n",
    "\n",
    "`Your prediction:`\n"
   ]
  },
  {
   "cell_type": "code",
   "execution_count": null,
   "id": "1a94f14d",
   "metadata": {},
   "outputs": [],
   "source": [
    "# -------------------------------------------------------------\n",
    "# Click‑to‑Cut Fishing Net Explorer\n",
    "# -------------------------------------------------------------\n",
    "ROWS, COLS = 5, 7  # change me!\n",
    "\n",
    "def all_edges(rows, cols):\n",
    "    e = []\n",
    "    for r in range(rows):\n",
    "        for c in range(cols):\n",
    "            if c < cols - 1:   # horizontal\n",
    "                e.append(((r, c), (r, c + 1)))\n",
    "            if r < rows - 1:   # vertical\n",
    "                e.append(((r, c), (r + 1, c)))\n",
    "    return e\n",
    "\n",
    "edges = all_edges(ROWS, COLS)\n",
    "edge2line = {}\n",
    "cut_edges = set()\n",
    "\n",
    "def is_connected(kept_edges):\n",
    "    if not kept_edges:\n",
    "        return False\n",
    "    graph = {}\n",
    "    for a, b in kept_edges:\n",
    "        graph.setdefault(a, []).append(b)\n",
    "        graph.setdefault(b, []).append(a)\n",
    "    start = next(iter(graph))\n",
    "    seen, stack = set(), [start]\n",
    "    while stack:\n",
    "        n = stack.pop()\n",
    "        if n in seen:\n",
    "            continue\n",
    "        seen.add(n)\n",
    "        stack.extend(graph[n])\n",
    "    return len(seen) == ROWS * COLS\n",
    "\n",
    "fig, ax = plt.subplots(figsize=(COLS, ROWS))\n",
    "ax.set_aspect('equal')\n",
    "ax.axis('off')\n",
    "ax.set_xlim(-0.5, COLS + 0.5)\n",
    "ax.set_ylim(-0.5, ROWS + 0.5)\n",
    "\n",
    "def draw_grid():\n",
    "    edge2line.clear()\n",
    "    for (a, b) in edges:\n",
    "        x = [a[1], b[1]]\n",
    "        y = [ROWS - a[0], ROWS - b[0]]\n",
    "        line, = ax.plot(x, y, 'k-', linewidth=2, picker=5)\n",
    "        edge2line[(a, b)] = line\n",
    "    fig.canvas.draw_idle()\n",
    "\n",
    "def update_status():\n",
    "    kept = [e for e in edges if e not in cut_edges]\n",
    "    ok = is_connected(kept)\n",
    "    message = f\"<b>Cuts:</b> {len(cut_edges)} <b>Net intact?</b> \"\n",
    "    message += \"✅ YES\" if ok else \"<span style='color:red;font-weight:bold;'>❌ NO – It split!</span>\"\n",
    "    status.value = message\n",
    "\n",
    "def on_pick(event):\n",
    "    edge = next(e for e, l in edge2line.items() if l is event.artist)\n",
    "    if edge in cut_edges:\n",
    "        cut_edges.remove(edge)\n",
    "        edge2line[edge].set(color='k', linestyle='-')\n",
    "    else:\n",
    "        cut_edges.add(edge)\n",
    "        edge2line[edge].set(color='r', linestyle='--')\n",
    "    update_status()\n",
    "    fig.canvas.draw_idle()\n",
    "\n",
    "draw_grid()\n",
    "fig.canvas.mpl_connect('pick_event', on_pick)\n",
    "\n",
    "status = widgets.HTML()\n",
    "update_status()\n",
    "\n",
    "reset_btn = widgets.Button(description='Reset net', button_style='info')\n",
    "def _reset(b):\n",
    "    cut_edges.clear()\n",
    "    for l in edge2line.values():\n",
    "        l.set(color='k', linestyle='-')\n",
    "    update_status()\n",
    "    fig.canvas.draw_idle()\n",
    "reset_btn.on_click(_reset)\n",
    "\n",
    "display(widgets.VBox([status, reset_btn]))\n"
   ]
  },
  {
   "cell_type": "markdown",
   "id": "a0ae960e",
   "metadata": {},
   "source": [
    "## Challenge Problems\n",
    "1. **Find the tipping point** – With the tool above, what is the **greatest** number of strands you managed to cut while the net remained intact?\n",
    "2. **Guarantee a split** – What is the **smallest** number of strands that must be cut to *ensure* the net splits, no matter which strands they are? Can you explain why?\n",
    "3. **Scale it up** – Change `ROWS` and `COLS` in the code cell and look for patterns.\n"
   ]
  },
  {
   "cell_type": "markdown",
   "id": "39cbcb6d",
   "metadata": {},
   "source": [
    "## Real‑World Extension\n",
    "Tie a small string grid (e.g., 3 × 4). Cut strands and compare when your physical net splits to the model.\n",
    "Upload a photo or describe what you observe.\n"
   ]
  },
  {
   "cell_type": "markdown",
   "id": "3ca242a6",
   "metadata": {},
   "source": [
    "### Reflection Journal\n",
    "- What surprised you today?\n",
    "- Which mistake turned out to be helpful?\n"
   ]
  }
 ],
 "metadata": {
  "kernelspec": {
   "display_name": "Python 3",
   "language": "python",
   "name": "python3"
  },
  "language_info": {
   "name": "python",
   "version": "3.11.11"
  }
 },
 "nbformat": 4,
 "nbformat_minor": 5
}
