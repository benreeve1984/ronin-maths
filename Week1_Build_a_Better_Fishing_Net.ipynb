{
 "cells": [
  {
   "cell_type": "markdown",
   "id": "4d97cf54",
   "metadata": {},
   "source": [
    "# Week 1 – Build a Better Fishing Net\n",
    "### Interactive exploration of grids & connectivity\n",
    "\n",
    "> **Instructions**  \n",
    "> 1. **Duplicate** this notebook (File ▸ Save a Copy) so your edits don’t change the master.  \n",
    "> 2. Run cells top‑to‑bottom.  \n",
    "> 3. Click strands to cut/restore them – watch the status update.\n"
   ]
  },
  {
   "cell_type": "markdown",
   "id": "604c2cdc",
   "metadata": {},
   "source": [
    "## Why nets matter\n",
    "If you cut too many ropes in a fishing net, fish slip through the gap and escape.  \n",
    "Today you’ll investigate **how a grid‑shaped net breaks apart** and discover some graph theory along the way."
   ]
  },
  {
   "cell_type": "code",
   "execution_count": null,
   "id": "8feb831a",
   "metadata": {},
   "outputs": [],
   "source": [
    "# Interactive backend (needs the ipympl / jupyter-matplotlib package)\n",
    "import ipympl\n",
    "%matplotlib\n",
    "\n",
    "import matplotlib.pyplot as plt\n",
    "import ipywidgets as widgets\n"
   ]
  },
  {
   "cell_type": "code",
   "execution_count": null,
   "id": "0382a2a3",
   "metadata": {},
   "outputs": [],
   "source": [
    "def draw_intact_net(rows=5, cols=7, lw=2):\n",
    "    \"\"\"Draws a fresh rows×cols grid‑net.\"\"\"\n",
    "    plt.figure(figsize=(cols, rows))\n",
    "    for r in range(rows):\n",
    "        for c in range(cols):\n",
    "            if c < cols - 1:                # horizontal\n",
    "                plt.plot([c, c + 1], [rows - r]*2, 'k-', linewidth=lw)\n",
    "            if r < rows - 1:                # vertical\n",
    "                plt.plot([c]*2, [rows - 1 - r, rows - r], 'k-', linewidth=lw)\n",
    "    plt.axis('off')\n",
    "    plt.title('A brand‑new fishing net – no cuts yet!')\n",
    "    plt.show()\n"
   ]
  },
  {
   "cell_type": "code",
   "execution_count": null,
   "id": "ae0bf4be",
   "metadata": {},
   "outputs": [],
   "source": [
    "draw_intact_net()"
   ]
  },
  {
   "cell_type": "markdown",
   "id": "e8d8ea84",
   "metadata": {},
   "source": [
    "### Predict first\n",
    "If you cut **one** strand, can the net split? How few cuts *guarantee* a split?  \n",
    "Write your guess here before experimenting:\n",
    "\n",
    "`Your prediction:`\n"
   ]
  },
  {
   "cell_type": "code",
   "execution_count": null,
   "id": "460ac674",
   "metadata": {},
   "outputs": [],
   "source": [
    "# ----------------------------------------------------------\n",
    "# Click‑to‑Cut Net Explorer  (interactive)\n",
    "# ----------------------------------------------------------\n",
    "ROWS, COLS = 5, 7         # tweak for larger/smaller nets\n",
    "\n",
    "# Build list of all strands\n",
    "def build_edges(rows, cols):\n",
    "    e = []\n",
    "    for r in range(rows):\n",
    "        for c in range(cols):\n",
    "            if c < cols - 1: e.append(((r,c), (r,  c+1)))  # horizontal\n",
    "            if r < rows - 1: e.append(((r,c), (r+1,c)))    # vertical\n",
    "    return e\n",
    "\n",
    "edges = build_edges(ROWS, COLS)\n",
    "cut_edges = set()          # user‑selected cuts\n",
    "edge2line = {}\n",
    "\n",
    "def is_connected(kept):\n",
    "    if not kept: return False\n",
    "    graph = {}\n",
    "    for a,b in kept:\n",
    "        graph.setdefault(a,[]).append(b)\n",
    "        graph.setdefault(b,[]).append(a)\n",
    "    start = next(iter(graph))\n",
    "    seen, stack = set(), [start]\n",
    "    while stack:\n",
    "        node = stack.pop()\n",
    "        if node in seen: continue\n",
    "        seen.add(node)\n",
    "        stack.extend(graph[node])\n",
    "    return len(seen) == ROWS * COLS\n",
    "\n",
    "# Create figure\n",
    "fig, ax = plt.subplots(figsize=(COLS, ROWS))\n",
    "ax.set_aspect('equal', adjustable='box')\n",
    "ax.axis('off')\n",
    "ax.set_xlim(-0.5, COLS + 0.5)\n",
    "ax.set_ylim(-0.5, ROWS + 0.5)\n",
    "\n",
    "def draw_grid():\n",
    "    edge2line.clear()\n",
    "    ax.clear()\n",
    "    ax.set_aspect('equal')\n",
    "    ax.axis('off')\n",
    "    ax.set_xlim(-0.5, COLS + 0.5)\n",
    "    ax.set_ylim(-0.5, ROWS + 0.5)\n",
    "    for edge in edges:\n",
    "        (r1,c1),(r2,c2) = edge\n",
    "        x = [c1, c2]\n",
    "        y = [ROWS - r1, ROWS - r2]      # flip y so row0 is bottom\n",
    "        intact = edge not in cut_edges\n",
    "        color = 'k' if intact else 'r'\n",
    "        style = '-' if intact else '--'\n",
    "        line, = ax.plot(x, y, color=color, linestyle=style,\n",
    "                        linewidth=2)\n",
    "        line.set_picker(True)\n",
    "        line.set_pickradius(5)          # 5 px tolerance\n",
    "        edge2line[edge] = line\n",
    "    fig.canvas.draw_idle()\n",
    "\n",
    "# Status widget\n",
    "status = widgets.HTML()\n",
    "\n",
    "def update_status():\n",
    "    kept = [e for e in edges if e not in cut_edges]\n",
    "    intact = is_connected(kept)\n",
    "    txt = f\"<b>Cuts:</b> {len(cut_edges)}  <b>Net intact?</b> \"\n",
    "    txt += \"✅ YES\" if intact else \"<span style='color:red;font-weight:bold;'>❌ NO – It split!</span>\"\n",
    "    status.value = txt\n",
    "\n",
    "def on_pick(event):\n",
    "    # Identify clicked edge\n",
    "    clicked_line = event.artist\n",
    "    edge = next(e for e,l in edge2line.items() if l is clicked_line)\n",
    "    if edge in cut_edges:\n",
    "        cut_edges.remove(edge)\n",
    "    else:\n",
    "        cut_edges.add(edge)\n",
    "    draw_grid()\n",
    "    update_status()\n",
    "\n",
    "fig.canvas.mpl_connect('pick_event', on_pick)\n",
    "\n",
    "# Reset button\n",
    "reset_btn = widgets.Button(description='Reset net', button_style='info')\n",
    "def _reset(b):\n",
    "    cut_edges.clear()\n",
    "    draw_grid()\n",
    "    update_status()\n",
    "reset_btn.on_click(_reset)\n",
    "\n",
    "draw_grid()\n",
    "update_status()\n",
    "display(widgets.VBox([status, reset_btn]))\n"
   ]
  },
  {
   "cell_type": "markdown",
   "id": "68a1d137",
   "metadata": {},
   "source": [
    "## Challenge Problems\n",
    "1. **Tipping point** – How many strands can you cut while the net stays intact?  \n",
    "2. **Certain split** – What’s the smallest number of strands that *guarantees* a split, no matter which you pick?  \n",
    "3. **Scale test** – Change `ROWS, COLS` and look for patterns.\n"
   ]
  },
  {
   "cell_type": "markdown",
   "id": "f847dc73",
   "metadata": {},
   "source": [
    "## Real‑World Extension\n",
    "Build a mini‑net from string (e.g., 3 × 4). Cut strands physically and compare when it splits with your simulation."
   ]
  },
  {
   "cell_type": "markdown",
   "id": "8114f184",
   "metadata": {},
   "source": [
    "### Reflection Journal\n",
    "- Which mistake taught you the most?  \n",
    "- Describe an extreme case that clarified your thinking.\n"
   ]
  }
 ],
 "metadata": {
  "kernelspec": {
   "display_name": "Python 3",
   "language": "python",
   "name": "python3"
  },
  "language_info": {
   "name": "python",
   "version": "3.x"
  }
 },
 "nbformat": 4,
 "nbformat_minor": 5
}
